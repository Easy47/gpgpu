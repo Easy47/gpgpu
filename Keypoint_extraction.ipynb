{
  "nbformat": 4,
  "nbformat_minor": 0,
  "metadata": {
    "colab": {
      "name": "Keypoint extraction.ipynb",
      "provenance": [],
      "collapsed_sections": []
    },
    "kernelspec": {
      "name": "python3",
      "display_name": "Python 3"
    },
    "language_info": {
      "name": "python"
    }
  },
  "cells": [
    {
      "cell_type": "code",
      "execution_count": 1,
      "metadata": {
        "id": "coW-kqjjdiUz"
      },
      "outputs": [],
      "source": [
        "import matplotlib.pyplot as plt\n",
        "import numpy as np\n",
        "import cv2"
      ]
    },
    {
      "cell_type": "code",
      "source": [
        "def bgr2rgb(img):\n",
        "    return cv2.cvtColor(img, cv2.COLOR_BGR2RGB)"
      ],
      "metadata": {
        "id": "LLXLk2zLmPe6"
      },
      "execution_count": 2,
      "outputs": []
    },
    {
      "cell_type": "code",
      "source": [
        "def draw_keypoint(keypoint, size):\n",
        "    pt_x, pt_y = keypoint[0], keypoint[1]\n",
        "    pt_int = int(pt_y), int(pt_x)\n",
        "    pt1 = tuple(map(lambda i, j: i + j, pt_int, (size, size)))\n",
        "    pt2 = tuple(map(lambda i, j: i - j, pt_int, (size, size)))\n",
        "    pt3 = tuple(map(lambda i, j: i + j, pt_int, (size, -size)))\n",
        "    pt4 = tuple(map(lambda i, j: i - j, pt_int, (size, -size)))\n",
        "\n",
        "    return pt1, pt2, pt3, pt4\n",
        "\n",
        "\n",
        "def draw_keypoints(color_image, keypoints1, keypoints2, keypoints3):\n",
        "\n",
        "    draw = color_image.copy()\n",
        "    green = (0, 255, 0)\n",
        "    pink = (255, 0, 255)\n",
        "    cyan = (255, 255, 0)\n",
        "    size = 4\n",
        "    thickness = 2\n",
        "\n",
        "\n",
        "    plt.figure(figsize=(600,800))\n",
        "\n",
        "    plt.subplot(3,1,1)\n",
        "    plt.axis('off'); plt.title(\"Python\")\n",
        "\n",
        "    for k in keypoints1:\n",
        "        p1, p2, p3, p4 = draw_keypoint(k, size)\n",
        "        cv2.line(draw, p1, p2, green, thickness)\n",
        "        cv2.line(draw, p3, p4, green, thickness)\n",
        "\n",
        "    plt.imshow(bgr2rgb(draw))\n",
        "    \n",
        "    plt.subplot(3,1,2)\n",
        "    plt.axis('off'); plt.title(\"CPU C++\")\n",
        "\n",
        "    for k in keypoints2:\n",
        "        p1, p2, p3, p4 = draw_keypoint(k, size)\n",
        "        cv2.line(draw, p1, p2, pink, thickness)\n",
        "        cv2.line(draw, p3, p4, pink, thickness)\n",
        "\n",
        "    plt.imshow(bgr2rgb(draw))\n",
        "\n",
        "    plt.subplot(3,1,3)\n",
        "    plt.axis('off'); plt.title(\"GPU CUDA\")\n",
        "\n",
        "    for k in keypoints1:\n",
        "        p1, p2, p3, p4 = draw_keypoint(k, size)\n",
        "        cv2.line(draw, p1, p2, cyan, thickness)\n",
        "        cv2.line(draw, p3, p4, cyan, thickness)\n",
        "\n",
        "    plt.imshow(bgr2rgb(draw))"
      ],
      "metadata": {
        "id": "Xq4u-DrMkQyH"
      },
      "execution_count": 3,
      "outputs": []
    },
    {
      "cell_type": "markdown",
      "source": [
        "# Nouvelle section"
      ],
      "metadata": {
        "id": "k6_9XJn2d76j"
      }
    },
    {
      "cell_type": "code",
      "source": [
        "def extract_point(filename):\n",
        "  f = open(filename, \"r\")\n",
        "  points = []\n",
        "\n",
        "  for line in (f.read().splitlines()):\n",
        "    coord = line.split(' ')\n",
        "    points.append([coord[0], coord[1]])\n",
        "\n",
        "  return points"
      ],
      "metadata": {
        "id": "hzVKOr04dntv"
      },
      "execution_count": 4,
      "outputs": []
    },
    {
      "cell_type": "code",
      "source": [
        "\n",
        "p1 = extract_point(\"python_keypoints.txt\")\n",
        "p2 = extract_point(\"build/cpu_keypoints.txt\")\n",
        "p3 = extract_point(\"build/gpu_keypoints.txt\")\n",
        "poster = cv2.imread(\"img/b001.png\")\n",
        "\n",
        "\n",
        "draw_keypoints(poster, p1, p2, p3)\n",
        "\n",
        "plt.savefig('output.png')"
      ],
      "metadata": {
        "id": "5JOl-tVclddI"
      },
      "execution_count": null,
      "outputs": []
    },
    {
      "cell_type": "code",
      "source": [
        ""
      ],
      "metadata": {
        "id": "ssmOxqf98ihe"
      },
      "execution_count": null,
      "outputs": []
    }
  ]
}