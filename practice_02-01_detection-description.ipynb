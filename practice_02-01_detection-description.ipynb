{
 "cells": [
  {
   "cell_type": "code",
   "execution_count": 2,
   "metadata": {},
   "outputs": [],
   "source": [
    "# deactivate buggy jupyter completion\n",
    "%config Completer.use_jedi = False"
   ]
  },
  {
   "cell_type": "code",
   "execution_count": 3,
   "metadata": {},
   "outputs": [],
   "source": [
    "import numpy as np\n",
    "import cv2\n",
    "import matplotlib.pyplot as plt\n",
    "#%matplotlib inline\n",
    "import os"
   ]
  },
  {
   "cell_type": "code",
   "execution_count": 4,
   "metadata": {},
   "outputs": [],
   "source": [
    "# TODO\n",
    "PATH_TO_RESOURCES = \"./\"  # FIXME set this to the path of the twinit resource directory"
   ]
  },
  {
   "cell_type": "code",
   "execution_count": 5,
   "metadata": {
    "tags": [
     "prof"
    ]
   },
   "outputs": [],
   "source": [
    "# prof\n",
    "def gauss_kernel(size: int, sizey: int=None) -> np.array:\n",
    "    \"\"\"\n",
    "    Returns a 2D Gaussian kernel for convolutions.\n",
    "    \n",
    "    Parameters\n",
    "    ----------\n",
    "    size: int\n",
    "        Size of the kernel to build\n",
    "    \n",
    "    Returns\n",
    "    -------\n",
    "    kernel: np.array of shape (size, size) and dtype np.float32\n",
    "        Resulting Gaussian kernel where kernel[i,j] = Gaussian(i, j, mu=(0,0), sigma=(size/3, size/3))\n",
    "    \"\"\"\n",
    "    size = int(size)\n",
    "    sizey = int(sizey) if sizey is not None else size\n",
    "    y, x = np.mgrid[-size:size+1, -sizey:sizey+1]\n",
    "\n",
    "    # x and y coefficients of a 2D gaussian with standard dev half of size\n",
    "    # (ignore scale factor)\n",
    "    g = np.exp(-(x**2/(2*(0.33*size)**2)+y**2/(2*(0.33*sizey)**2)))\n",
    "    return g"
   ]
  },
  {
   "cell_type": "code",
   "execution_count": 6,
   "metadata": {},
   "outputs": [],
   "source": [
    "# Run this cell\n",
    "from mpl_toolkits.mplot3d import Axes3D\n",
    "from typing import Tuple"
   ]
  },
  {
   "cell_type": "code",
   "execution_count": 7,
   "metadata": {
    "tags": [
     "prof"
    ]
   },
   "outputs": [],
   "source": [
    "# prof\n",
    "def gauss_derivative_kernels(size: int, sizey: int=None) -> Tuple[np.array, np.array]:\n",
    "    \"\"\"\n",
    "    Returns two 2D Gaussian derivative kernels (x and y) for convolutions.\n",
    "    \n",
    "    Parameters\n",
    "    ----------\n",
    "    size: int\n",
    "        Size of the kernels to build\n",
    "    \n",
    "    Returns\n",
    "    -------\n",
    "    (gx, gy): tupe of (np.array, np.array), each of shape (size, size) and dtype np.float32\n",
    "        Resulting Gaussian kernels where kernel[i,j] = Gaussian_z(i, j, mu=(0,0), sigma=(size/3, size/3))\n",
    "        where Gaussian_z is either the x or the y Gaussian derivative.\n",
    "    \"\"\"\n",
    "    size = int(size)\n",
    "    sizey = int(sizey) if sizey is not None else size\n",
    "    y, x = np.mgrid[-size:size+1, -sizey:sizey+1]\n",
    "\n",
    "    #x and y derivatives of a 2D gaussian with standard dev half of size\n",
    "    # (ignore scale factor)\n",
    "    gx = - x * np.exp(-(x**2/(2*(0.33*size)**2)+y**2/(2*(0.33*sizey)**2)))\n",
    "    gy = - y * np.exp(-(x**2/(2*(0.33*size)**2)+y**2/(2*(0.33*sizey)**2)))\n",
    "\n",
    "    return gx,gy"
   ]
  },
  {
   "cell_type": "code",
   "execution_count": 8,
   "metadata": {},
   "outputs": [],
   "source": [
    "from scipy import signal\n"
   ]
  },
  {
   "cell_type": "code",
   "execution_count": 9,
   "metadata": {
    "tags": [
     "prof"
    ]
   },
   "outputs": [],
   "source": [
    "# prof\n",
    "def gauss_derivatives(im: np.array, size: int, sizey: int=None) -> Tuple[np.array, np.array]:\n",
    "    \"\"\"\n",
    "    Returns x and y gaussian derivatives for a given image.\n",
    "    \n",
    "    Parameters\n",
    "    ----------\n",
    "    im: np.array of shape (rows, cols)\n",
    "        Input image\n",
    "    size: int\n",
    "        Size of the kernels to use\n",
    "    \n",
    "    Returns\n",
    "    -------\n",
    "    (Ix, Iy): tupe of (np.array, np.array), each of shape (rows, cols)\n",
    "        Derivatives (x and y) of the image computed using Gaussian derivatives (with kernel of size `size`).\n",
    "    \"\"\"\n",
    "    gx,gy = gauss_derivative_kernels(size, sizey=sizey)\n",
    "\n",
    "    imx = signal.convolve(im, gx, mode='same')\n",
    "    imy = signal.convolve(im, gy, mode='same')\n",
    "\n",
    "    return imx,imy"
   ]
  },
  {
   "cell_type": "code",
   "execution_count": 12,
   "metadata": {},
   "outputs": [],
   "source": [
    "# Some Jupyter magic to help you\n",
    "# This creates a SORTED list of files to process.\n",
    "bubble_files = !ls $PATH_TO_RESOURCES/*.png | sort"
   ]
  },
  {
   "cell_type": "code",
   "execution_count": 13,
   "metadata": {},
   "outputs": [],
   "source": [
    "# load all the bubbles\n",
    "bubbles = [cv2.imread(ff) for ff in bubble_files]\n",
    "# list of bubbles (np.array) in grayscale\n",
    "bubbles_gray = [cv2.cvtColor(bb, cv2.COLOR_BGR2GRAY) for bb in bubbles]"
   ]
  },
  {
   "cell_type": "markdown",
   "metadata": {},
   "source": [
    "#### 1.2.2 Harris response\n",
    "We can now compute the Harris response of an image."
   ]
  },
  {
   "cell_type": "code",
   "execution_count": 14,
   "metadata": {
    "tags": [
     "prof"
    ]
   },
   "outputs": [],
   "source": [
    "# prof\n",
    "def compute_harris_response(image):  #, k=0.05):\n",
    "    \"\"\"\n",
    "    Returns the Harris cornerness response of a given image.\n",
    "    \n",
    "    Parameters\n",
    "    ----------\n",
    "    im: np.array of shape (rows, cols)\n",
    "        Input image\n",
    "    \n",
    "    Returns\n",
    "    -------\n",
    "    response: np.array of shape (rows, cols) and dtype np.float32\n",
    "        Harris cornerness response image.\n",
    "    \"\"\"\n",
    "    DERIVATIVE_KERNEL_SIZE = 3\n",
    "    OPENING_SIZE = 3\n",
    "    \n",
    "    #derivatives\n",
    "    imx,imy = gauss_derivatives(image, DERIVATIVE_KERNEL_SIZE)\n",
    "\n",
    "    #kernel for weighted sum\n",
    "    gauss = gauss_kernel(OPENING_SIZE) # opening param\n",
    "\n",
    "    #compute components of the structure tensor\n",
    "    Wxx = signal.convolve(imx*imx,gauss, mode='same')\n",
    "    Wxy = signal.convolve(imx*imy,gauss, mode='same')\n",
    "    Wyy = signal.convolve(imy*imy,gauss, mode='same')\n",
    "\n",
    "    #determinant and trace\n",
    "    Wdet = Wxx*Wyy - Wxy**2\n",
    "    Wtr = Wxx + Wyy\n",
    "#     print(Wdet.min(), Wdet.max(), Wdet.mean())\n",
    "#     print(Wtr.min(), Wtr.max(), Wtr.mean())\n",
    "\n",
    "    # return Wdet - k * Wtr**2 # k is hard to tune\n",
    "    # return Wdet / Wtr # we would need to filter NaNs\n",
    "    return Wdet / (Wtr + 1)  # 1 seems to be a reasonable value for epsilon"
   ]
  },
  {
   "cell_type": "code",
   "execution_count": 15,
   "metadata": {},
   "outputs": [],
   "source": [
    "# RUN ME\n",
    "# mathematical morphology magic: this returns an eroded (shrunk) mask\n",
    "def bubble2maskeroded(img_gray: np.array, border: int=10) -> np.array:\n",
    "    \"\"\"\n",
    "    Returns the eroded mask of a given image, to remove pixels which are close to the border.\n",
    "    \n",
    "    Parameters\n",
    "    ----------\n",
    "    im: np.array of shape (rows, cols)\n",
    "        Input image\n",
    "    \n",
    "    Returns\n",
    "    -------\n",
    "    mask: np.array of shape (rows, cols) and dtype bool\n",
    "        Image mask.\n",
    "    \"\"\"\n",
    "    if img_gray.ndim > 2:\n",
    "        raise ValueError(\n",
    "            \"\"\"bubble2maskeroded: img_gray must be a grayscale image.\n",
    "            The image you passed has %d dimensions instead of 2.\n",
    "            Try to convert it to grayscale before passing it to bubble2maskeroded.\n",
    "            \"\"\" % (img_gray.ndim, ))\n",
    "    mask = img_gray > 0\n",
    "    kernel = cv2.getStructuringElement(cv2.MORPH_ELLIPSE, (border*2,border*2))\n",
    "    # new: added a little closing below because some bubbles have some black pixels inside\n",
    "    mask_er = cv2.morphologyEx(mask.astype(np.uint8), cv2.MORPH_CLOSE, np.ones((3,3)))\n",
    "    mask_er = cv2.erode(mask.astype(np.uint8),  kernel, borderType=cv2.BORDER_CONSTANT, borderValue=0)\n",
    "    return mask_er > 0"
   ]
  },
  {
   "cell_type": "code",
   "execution_count": 16,
   "metadata": {
    "tags": [
     "prof"
    ]
   },
   "outputs": [],
   "source": [
    "# prof\n",
    "def detect_harris_points(image_gray: np.array, max_keypoints: int=2000, \n",
    "                         min_distance: int=25, threshold: float=0.1) -> np.array:\n",
    "    \"\"\"\n",
    "    Detects and returns a sorted list of coordinates for each corner keypoint detected in an image.\n",
    "    \n",
    "    Parameters\n",
    "    ----------\n",
    "    image_gray: np.array\n",
    "        Input image\n",
    "    max_keypoints: int, default=30\n",
    "        Number of keypoints to return, at most (we may have less keypoints)\n",
    "    min_distance: int, default=25\n",
    "        Minimum distance between two keypoints\n",
    "    threshold: float, default=0.1\n",
    "        For each keypoint k_i, we ensure that its response h_i will verify\n",
    "        $h_i > min(response) + threshold * (max(reponse) - min(response))$\n",
    "    \n",
    "    Returns\n",
    "    -------\n",
    "    corner_coord: np.array of shape (N, 2) and dtype int\n",
    "        Array of corner keypoint 2D coordinates, with N <= max_keypoints\n",
    "    \"\"\"\n",
    "    # 1. Compute Harris corner response\n",
    "    harris_resp = compute_harris_response(image_gray)\n",
    "    \n",
    "    # 2. Filtering\n",
    "    # 2.0 Mask init: all our filtering is performed using a mask\n",
    "    detect_mask = np.ones(harris_resp.shape, dtype=bool)\n",
    "    # 2.1 Background and border removal\n",
    "    #detect_mask &= bubble2maskeroded(image_gray, border=min_distance)\n",
    "    # 2.2 Response threshold\n",
    "    detect_mask &= harris_resp > harris_resp.min()+threshold*(harris_resp.max()-harris_resp.min())\n",
    "    # 2.3 Non-maximal suppression\n",
    "    dil = cv2.dilate(harris_resp, cv2.getStructuringElement(cv2.MORPH_ELLIPSE, (min_distance, min_distance)))\n",
    "    detect_mask &= np.isclose(dil, harris_resp)  # keep only local maximas\n",
    "               \n",
    "    # 3. Select, sort and filter candidates\n",
    "    # get coordinates of candidates\n",
    "    candidates_coords = np.transpose(detect_mask.nonzero())\n",
    "    # ...and their values\n",
    "    candidate_values = harris_resp[detect_mask]\n",
    "    #sort candidates\n",
    "    sorted_indices = np.argsort(-1 * candidate_values)\n",
    "    # keep only the bests\n",
    "    best_corners_coordinates = candidates_coords[sorted_indices][:max_keypoints]\n",
    "    \n",
    "    return best_corners_coordinates"
   ]
  },
  {
   "cell_type": "code",
   "execution_count": 17,
   "metadata": {},
   "outputs": [
    {
     "name": "stdout",
     "output_type": "stream",
     "text": [
      "[[ 804 1079]\n",
      " [ 565  734]\n",
      " [ 704  554]\n",
      " ...\n",
      " [ 695 1052]\n",
      " [ 304  429]\n",
      " [ 316  740]]\n"
     ]
    },
    {
     "data": {
      "text/plain": [
       "<Figure size 576x1152 with 0 Axes>"
      ]
     },
     "metadata": {},
     "output_type": "display_data"
    }
   ],
   "source": [
    "# (just run this cell)\n",
    "# Display some bubbles and the detected keypoints\n",
    "#num_bb = 6\n",
    "'''num_bb = 1\n",
    "min_distance=25\n",
    "plt.figure(figsize=(8,16))\n",
    "for bb_id in range(num_bb):\n",
    "    bb = bubbles[bb_id]\n",
    "    bb_gray = bubbles_gray[bb_id]\n",
    "    bb_h = compute_harris_response(bb_gray)\n",
    "\n",
    "    filtered_coords = detect_harris_points(bb_gray, \n",
    "                                        min_distance=min_distance)\n",
    "    print(filtered_coords)'''\n",
    "    \n",
    "num_bb = 1\n",
    "min_distance=25\n",
    "plt.figure(figsize=(8,16))\n",
    "keypoints = []\n",
    "for bb_id in range(num_bb):\n",
    "    bb = bubbles[bb_id]\n",
    "    bb_gray = bubbles_gray[bb_id]\n",
    "    bb_h = compute_harris_response(bb_gray)\n",
    "\n",
    "    filtered_coords = detect_harris_points(bb_gray, \n",
    "                                        min_distance=min_distance)\n",
    "    keypoints = filtered_coords\n",
    "    print(filtered_coords)\n",
    "\n",
    "f = open(\"python_keypoints.txt\", \"w\")\n",
    "for x in keypoints:\n",
    "  f.write(str(x[0]) + ' ' + str(x[1]) + '\\n')\n",
    "f.close()"
   ]
  },
  {
   "cell_type": "code",
   "execution_count": null,
   "metadata": {},
   "outputs": [],
   "source": []
  }
 ],
 "metadata": {
  "celltoolbar": "Tags",
  "hide_input": false,
  "interpreter": {
   "hash": "916dbcbb3f70747c44a77c7bcd40155683ae19c65e1c03b4aa3499c5328201f1"
  },
  "kernelspec": {
   "display_name": "Python 3.8.10 64-bit",
   "language": "python",
   "name": "python3"
  },
  "language_info": {
   "codemirror_mode": {
    "name": "ipython",
    "version": 3
   },
   "file_extension": ".py",
   "mimetype": "text/x-python",
   "name": "python",
   "nbconvert_exporter": "python",
   "pygments_lexer": "ipython3",
   "version": "3.8.10"
  },
  "varInspector": {
   "cols": {
    "lenName": 16,
    "lenType": 16,
    "lenVar": 40
   },
   "kernels_config": {
    "python": {
     "delete_cmd_postfix": "",
     "delete_cmd_prefix": "del ",
     "library": "var_list.py",
     "varRefreshCmd": "print(var_dic_list())"
    },
    "r": {
     "delete_cmd_postfix": ") ",
     "delete_cmd_prefix": "rm(",
     "library": "var_list.r",
     "varRefreshCmd": "cat(var_dic_list()) "
    }
   },
   "types_to_exclude": [
    "module",
    "function",
    "builtin_function_or_method",
    "instance",
    "_Feature"
   ],
   "window_display": false
  }
 },
 "nbformat": 4,
 "nbformat_minor": 2
}
